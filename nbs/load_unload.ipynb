{
 "metadata": {
  "language_info": {
   "codemirror_mode": {
    "name": "ipython",
    "version": 3
   },
   "file_extension": ".py",
   "mimetype": "text/x-python",
   "name": "python",
   "nbconvert_exporter": "python",
   "pygments_lexer": "ipython3",
   "version": 3
  },
  "orig_nbformat": 2
 },
 "nbformat": 4,
 "nbformat_minor": 2,
 "cells": [
  {
   "cell_type": "code",
   "execution_count": null,
   "metadata": {},
   "outputs": [],
   "source": [
    "mode = \"unload\"\n",
    "\n",
    "if mode == 'unload':\n",
    "    # Zip all files in the current directory\n",
    "    !tar chvfz notebook.tar.gz *\n",
    "\n",
    "elif mode == 'load':\n",
    "    # Unzip all files in the current directory\n",
    "    !!tar -xv -f notebook.tar.gz"
   ]
  }
 ]
}